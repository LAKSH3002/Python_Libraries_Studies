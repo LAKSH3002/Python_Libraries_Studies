{
  "cells": [
    {
      "cell_type": "markdown",
      "metadata": {
        "id": "view-in-github",
        "colab_type": "text"
      },
      "source": [
        "<a href=\"https://colab.research.google.com/github/LAKSH3002/Python_Libraries_Studies/blob/main/Pandas.ipynb\" target=\"_parent\"><img src=\"https://colab.research.google.com/assets/colab-badge.svg\" alt=\"Open In Colab\"/></a>"
      ]
    },
    {
      "cell_type": "code",
      "source": [
        "# Pandas cheatsheet\n",
        "# 1) Data Import\n",
        "pd.read_csv('file.csv'): This function is used to import and read csv files\n",
        "pd.read_excel('file.xlsx', sheet_name='sheet1'): This function is used to import and read json files\n",
        "pd.read_sql(query, connection)\n",
        "pd.read_json('file.json')\n",
        "\n",
        "# 2) Data selction\n",
        "dataframe['column name'] - Single column\n",
        "dataframe['row','col'] - Label based\n",
        "dataframe[0:5, 1:2] - Integer based\n",
        "dataframe.query('col>5') - SQL Like filtering\n",
        "\n",
        "# 3) Statistics\n",
        "dataframe.describe() - summary statistics\n",
        "dataframe.info() - gives information about the dataset\n",
        "dataframe.head() - displays the first 5 rows of the entire dataset\n",
        "dataframe.tail() - displays the last 5 rows of the entire dataset\n",
        "dataframe.corr(method='') - finds out correlation between the numerical columns\n",
        "dataframe['column name'].value_counts(normalize=True) - This gives the unique distribution of the column\n",
        "dataframe['column name'].unique() - This gives the unique values in the column\n",
        "dataframe['column name'].nunique() - This gives the number of unique values in the column\n",
        "dataframe.cov() - Covariance matrix\n",
        "\n",
        "# 4) Data cleaning tools and functions\n",
        "df.dropna() - if a row has NaN, its removed\n",
        "df.fillna(provide a value here) - Replaces NaN values with a given value\n",
        "df.drop_duplicates() - keeps only the first occurence\n",
        "df['col'].replace({'old':'new'}) - Replaces specific values in a column\n",
        "df['col'].astype('category') - changes a column data type to category (astype converts column from one data type to another)\n",
        "df.interpolate[method='linear'] - Fills missing values by guessing between existing values\n",
        "\n",
        "# 5) String operations\n",
        "df['col'].str.contains('pattern') - checks if the string contains the pattern or not\n",
        "df['col'].str.extract() - Pulls out part of the string that matches a pattern (using regex).\n",
        "df['col'].str.split() - Splits strings into lists based on a separator.\n",
        "df['col'].str.lower() - converting the string into lowercase\n",
        "df['col'].str.strip() - Removes spaces (or given characters) from start and end.\n",
        "df['col'].str.replace('old','new') - replaces old string into new string.\n",
        "\n",
        "# 6) Data Manipulation\n",
        "df.groupby('column') - group by does groupping of the same kind of values\n",
        "df.groupby('column').agg({'column':['mean', 'sum']}) - Groups by column values and then performs aggregate functions for each unique value.\n",
        "df.groupby(['column name', 'column name 2']).size() - count the similiar number of groupings that exist\n",
        "df.megre(df2, on='key', how='left') - In order to merge one dataset with another dataset\n",
        "df.pivot_table(values='val',index='idx') - This is use to create a pivot table of the given specific data set, grouped by index\n",
        "df.sort_values(['col1']) - Performs sorting operation on the column\n",
        "df.melt() - converts wide format to long format (un-pivots the Data Frame)\n",
        "df.apply(lambda x: x*2) - Applies a function to either each column or each row.\n",
        "\n",
        "# 7) Time series\n",
        "df.resample('M').mean() - Groups time-series data by a frequency (M = month) and takes the mean.\n",
        "df.rolling(window=7).mean() - Calculates the rolling mean of the data.(In this case for the last 7 rows)\n",
        "df.shift(periods=1) - shifts data down by 1 row (useful for lag/previous sales)\n",
        "pd.date_range(start='2025-01-01', periods=5, freq='D') - creates a sequence of dates\n",
        "df.asfreq() - Changes the frequency of the time index (can fill gaps or create NaNs).\n",
        "df['date'].dt.strftime('%Y-%m-%d') - formats datetime column into string with the given pattern.\n",
        "\n",
        "# 8) Data export - suppose you have a cleaned dataset, now you want to export it.\n",
        "df.to_csv('filename.csv', index=True/False)\n",
        "df.to_excel('filename.xlsx', sheet_name = '')\n",
        "df.to_json('filename.json', orient='')\n",
        "df.to_sql(table_name, connection)\n",
        "df.to_html('filename')\n",
        "df.to_parquet('output.parquest')\n",
        "\n",
        "pd.cut()\n",
        "values_count().sort_index()"
      ],
      "metadata": {
        "id": "BUUKfJrPJai_"
      },
      "execution_count": null,
      "outputs": []
    },
    {
      "cell_type": "code",
      "execution_count": 13,
      "metadata": {
        "colab": {
          "base_uri": "https://localhost:8080/"
        },
        "collapsed": true,
        "id": "RiLvQb-VXZln",
        "outputId": "4689d457-7dd4-4d95-b925-9e59c70cd5e0"
      },
      "outputs": [
        {
          "output_type": "stream",
          "name": "stdout",
          "text": [
            "2.2.2\n",
            "Drive already mounted at /content/drive; to attempt to forcibly remount, call drive.mount(\"/content/drive\", force_remount=True).\n",
            "          Cars  Car_Seats  Car_Id     Rates Colour  Max_Speed      Car_Type\n",
            "0          BMW          3     405   2500000  black        200           SUV\n",
            "1        Volvo          7     543    120000   gray        140          Flat\n",
            "2         Ford          4     222    650000    Red        140         Sport\n",
            "3     Mercedes          6     123  12500000   grey        200           XUV\n",
            "4      Porsche          5     451  50000000  green        300        Sports\n",
            "5         Audi          4     521   7500000   blue        250      2_seater\n",
            "6       Jaguar          4     118  95000000    Red        250        Luxury\n",
            "7  Range Rover          6     212  10000000  Black        300  Luxury_sport\n"
          ]
        }
      ],
      "source": [
        "# Pandas\n",
        "# It is a python library used to analyze data, cleaning, exploring and manipulating data.\n",
        "# Pandas help in making messy data turn into actionable insights.\n",
        "# Installation: pip install pandas\n",
        "# To use pandas library we use its alliance:pd\n",
        "import matplotlib.pyplot as plt\n",
        "import pandas as pd\n",
        "# Hard coding of pandas (very simple data set)\n",
        "print(pd.__version__)\n",
        "from google.colab import drive\n",
        "drive.mount('/content/drive') # Updated mountpoint to a valid local directory\n",
        "mydataset = {\n",
        "    'Cars': [\"BMW\", \"Volvo\", \"Ford\", \"Mercedes\", \"Porsche\", \"Audi\", \"Jaguar\", \"Range Rover\"],\n",
        "    'Car_Seats': [3, 7, 4, 6, 5, 4, 4, 6],\n",
        "    'Car_Id': [405, 543, 222, 123, 451, 521, 118, 212],\n",
        "    'Rates': [2500000, 120000, 650000, 12500000, 50000000, 7500000, 95000000, 10000000],\n",
        "    'Colour': [\"black\", \"gray\", 'Red', 'grey', 'green', 'blue', 'Red', 'Black'],\n",
        "    'Max_Speed': [200, 140, 140, 200, 300, 250, 250, 300],\n",
        "    'Car_Type': [\"SUV\", \"Flat\", \"Sport\", \"XUV\", \"Sports\", \"2_seater\", \"Luxury\", \"Luxury_sport\"]\n",
        "}\n",
        "myvar = pd.DataFrame(mydataset)\n",
        "print(myvar)\n",
        "\n",
        "# Loading a csv file and reading it.\n",
        "# df = pd.read_csv('Hacks_24_Participants_list.csv')\n",
        "# print(df) # This forces pandad to print the entire dataset.\n",
        "# print(df): This prints the summary of the dataset."
      ]
    },
    {
      "cell_type": "code",
      "execution_count": 14,
      "metadata": {
        "collapsed": true,
        "id": "okT_Z3kOgClL",
        "colab": {
          "base_uri": "https://localhost:8080/"
        },
        "outputId": "c7f3c095-99ff-417f-ae89-0b61f7d8ca62"
      },
      "outputs": [
        {
          "output_type": "stream",
          "name": "stdout",
          "text": [
            "Series without providing indexes\n",
            "0     5\n",
            "1     7\n",
            "2     8\n",
            "3    10\n",
            "4    12\n",
            "5    15\n",
            "dtype: int64\n",
            "\n",
            "Series with provided indexes\n",
            "l     5\n",
            "m     7\n",
            "n     8\n",
            "p    10\n",
            "q    12\n",
            "r    15\n",
            "dtype: int64\n",
            "5\n",
            "12\n",
            "\n",
            "Key Value pairs\n",
            "day1    480\n",
            "day2    550\n",
            "day3    600\n",
            "dtype: int64\n",
            "\n",
            "Data Frame\n",
            "          Cars  Car_Seats  Car_Id     Rates Colour  Max_Speed      Car_Type\n",
            "0          BMW          3     405   2500000  black        200           SUV\n",
            "1        Volvo          7     543    120000   gray        140          Flat\n",
            "2         Ford          4     222    650000    Red        140         Sport\n",
            "3     Mercedes          6     123  12500000   grey        200           XUV\n",
            "4      Porsche          5     451  50000000  green        300        Sports\n",
            "5         Audi          4     521   7500000   blue        250      2_seater\n",
            "6       Jaguar          4     118  95000000    Red        250        Luxury\n",
            "7  Range Rover          6     212  10000000  Black        300  Luxury_sport\n",
            "\n",
            "0th row printed\n",
            "  Cars  Car_Seats  Car_Id    Rates Colour  Max_Speed Car_Type\n",
            "0  BMW          3     405  2500000  black        200      SUV\n",
            "\n",
            "    Cars  Car_Seats  Car_Id   Rates Colour  Max_Speed Car_Type\n",
            "1  Volvo          7     543  120000   gray        140     Flat\n",
            "2   Ford          4     222  650000    Red        140    Sport\n"
          ]
        }
      ],
      "source": [
        "# Series, labels, key/value objects, dataframes\n",
        "# .Series(variablename, Optional field: index), .DataFrame(var name): presents the frame of the data set.\n",
        "\n",
        "# 1) Series: Like a column in a table\n",
        "a = [5,7,8, 10, 12, 15]\n",
        "series = pd.Series(a)\n",
        "print(\"Series without providing indexes\")\n",
        "print(series)\n",
        "print()\n",
        "\n",
        "# 2) Adding labels to these series/columns\n",
        "index_series = pd.Series(a, index = [\"l\",\"m\",\"n\",\"p\",\"q\", \"r\"])\n",
        "print(\"Series with provided indexes\")\n",
        "print(index_series)\n",
        "print(series[0])\n",
        "print(index_series[\"q\"]) # If we had added 0, an extra message will appear.\n",
        "print()\n",
        "\n",
        "# 3) Key/value objects thing (dictionary method)\n",
        "series_calories = {\"day1\": 480, \"day2\": 550, \"day3\": 600}\n",
        "series_calories = pd.Series(series_calories)\n",
        "print(\"Key Value pairs\")\n",
        "print(series_calories)\n",
        "\n",
        "# 4) DataFrames: It presents you the entire data frame (a 2d data structure)\n",
        "# We understood data frame above. Having a dictonary\n",
        "df = pd.DataFrame(mydataset)\n",
        "print()\n",
        "print(\"Data Frame\")\n",
        "print(df)\n",
        "print()\n",
        "\n",
        "# How to return a specific row and columns: using .loc() function\n",
        "# Also you can print this location only for Data Frames\n",
        "print(\"0th row printed\")\n",
        "print(df.loc[[0]]) # print 0 row.\n",
        "print()\n",
        "print(df.loc[[1,2]]) # print 1st and 2nd row."
      ]
    },
    {
      "cell_type": "code",
      "execution_count": 15,
      "metadata": {
        "colab": {
          "base_uri": "https://localhost:8080/"
        },
        "id": "M7wtNHLlorqE",
        "outputId": "854ed821-d1c9-4ebe-986d-7b607d884270"
      },
      "outputs": [
        {
          "output_type": "stream",
          "name": "stdout",
          "text": [
            "Path to dataset files: /kaggle/input/superhero-movies-dataset\n",
            "Path to dataset files: /kaggle/input/laptop-price-dataset\n",
            "Path to dataset files: /kaggle/input/youtube\n"
          ]
        }
      ],
      "source": [
        "import kagglehub\n",
        "\n",
        "# Download latest version\n",
        "path = kagglehub.dataset_download(\"aslawant/superhero-movies-dataset\")\n",
        "\n",
        "print(\"Path to dataset files:\", path)\n",
        "\n",
        "# Download latest version\n",
        "path = kagglehub.dataset_download(\"sumanbera19/laptop-price-dataset\")\n",
        "\n",
        "print(\"Path to dataset files:\", path)\n",
        "\n",
        "# Download latest version\n",
        "path = kagglehub.dataset_download(\"datasnaek/youtube\")\n",
        "\n",
        "print(\"Path to dataset files:\", path)"
      ]
    },
    {
      "cell_type": "code",
      "execution_count": 16,
      "metadata": {
        "id": "of_7hmiUp_Ua"
      },
      "outputs": [],
      "source": [
        "# Learning about csv files, data cleaning, analyszing through superhero films data set\n",
        "# Will take one more data set which will not be clean and organized.\n",
        "# Project title: Airline performance - ongoing.\n",
        "# CSV file: Superhero films data set.\n",
        "# JSON fiel: Youtube stats."
      ]
    },
    {
      "cell_type": "code",
      "execution_count": 17,
      "metadata": {
        "colab": {
          "base_uri": "https://localhost:8080/"
        },
        "id": "I5pt5SQPNr-c",
        "outputId": "910e6416-eadc-4cf5-a4d6-e236d8b6a84e"
      },
      "outputs": [
        {
          "output_type": "stream",
          "name": "stdout",
          "text": [
            "9999\n",
            "20\n",
            "   Year                 Film       Publisher                      Director  \\\n",
            "0  1937   The Shadow Strikes  Street & Smith                   Lynn Shores   \n",
            "1  1938  International Crime  Street & Smith                Charles Lamont   \n",
            "2  1945           Dick Tracy  Detroit Mirror                 William Berke   \n",
            "3  1946  The Shadow Returns'  Street & Smith  Phil Rosen, William Beaudine   \n",
            "4  1946     Behind the Mask'  Street & Smith                  Phil Karlson   \n",
            "\n",
            "                 Distributor Worldwide_Gross  \\\n",
            "0  Grand National Films Inc.             NaN   \n",
            "1  Grand National Films Inc.             NaN   \n",
            "2               RKO Pictures             NaN   \n",
            "3          Monogram Pictures             NaN   \n",
            "4          Monogram Pictures             NaN   \n",
            "\n",
            "                                Description  \n",
            "0      Film featuring The Shadow character.  \n",
            "1      Film featuring The Shadow character.  \n",
            "2  Film featuring the character Dick Tracy.  \n",
            "3             Part of The Shadow franchise.  \n",
            "4      Film featuring The Shadow character.  \n",
            "<class 'pandas.core.frame.DataFrame'>\n",
            "RangeIndex: 407 entries, 0 to 406\n",
            "Data columns (total 7 columns):\n",
            " #   Column           Non-Null Count  Dtype \n",
            "---  ------           --------------  ----- \n",
            " 0   Year             407 non-null    int64 \n",
            " 1   Film             407 non-null    object\n",
            " 2   Publisher        407 non-null    object\n",
            " 3   Director         407 non-null    object\n",
            " 4   Distributor      407 non-null    object\n",
            " 5   Worldwide_Gross  279 non-null    object\n",
            " 6   Description      295 non-null    object\n",
            "dtypes: int64(1), object(6)\n",
            "memory usage: 22.4+ KB\n",
            "None\n"
          ]
        }
      ],
      "source": [
        "# Reading and operating on csv files\n",
        "df2 = pd.read_csv('/content/drive/My Drive/Datasets_for_learning/superhero_movies_dataset.csv')\n",
        "\n",
        "# max number of rows\n",
        "print(pd.options.display.max_rows) # 60\n",
        "# This maximum number is the number of rows that can be displayed through the system\n",
        "# You can increase by assigning a value to it as well (after this read csv file and print it)\n",
        "pd.options.display.max_rows = 9999\n",
        "print(pd.options.display.max_columns) # 20\n",
        "print(df2.head()) # Quick overview (you can also specify the number of rows you want, otherwise default is 5)\n",
        "# print(df2.tail()) # Gives the last rows\n",
        "\n",
        "print(df2.info()) # This gives you exact information that you require from a data set."
      ]
    },
    {
      "cell_type": "code",
      "execution_count": 18,
      "metadata": {
        "id": "TsyfugHBrKCO"
      },
      "outputs": [],
      "source": [
        "# Cleaning of data set.\n",
        "\n",
        "# When there are NULL values\n",
        "# Option 1: Remove rows with null values (either by creating new dataframe or with the existing data frame)\n",
        "# In our data set we will loose a lot of important data if we choose this option (superhero data set)\n",
        "# Option 2: You can replace the null values with a specific value for a specific column.\n",
        "# Option 3: Replace the empty values with mean, median or mode (only applicable for numerical values)\n",
        "\n",
        "# When there are data that is in the WRONG FORMAT:\n",
        "# Option 1: Convert the data into the proper format.\n",
        "# Option 2: Delete rows and then analyze.\n",
        "\n",
        "# When data is in proper format but INCORRECT OR WRONG, it could be because of mistake in entries.\n",
        "# Option 1: Replace the incorrect value with something else.\n",
        "#           For a small set doing it manually is possible, but for a large dataset, use iterations.\n",
        "# Option 2: Delete those specific rows with incorrect values.\n",
        "\n",
        "# When there are DUPLICATE VALUES,\n",
        "# First discover duplicates using duplicated() method\n",
        "# Then use drop_duplicates() method to drop them."
      ]
    },
    {
      "cell_type": "code",
      "execution_count": 19,
      "metadata": {
        "colab": {
          "base_uri": "https://localhost:8080/"
        },
        "id": "A4qXMX06bnV_",
        "outputId": "86693e24-209a-4360-e453-fb2bd0b85a8e"
      },
      "outputs": [
        {
          "output_type": "stream",
          "name": "stdout",
          "text": [
            "<class 'pandas.core.frame.DataFrame'>\n",
            "RangeIndex: 407 entries, 0 to 406\n",
            "Data columns (total 7 columns):\n",
            " #   Column           Non-Null Count  Dtype \n",
            "---  ------           --------------  ----- \n",
            " 0   Year             407 non-null    int64 \n",
            " 1   Film             407 non-null    object\n",
            " 2   Publisher        407 non-null    object\n",
            " 3   Director         407 non-null    object\n",
            " 4   Distributor      407 non-null    object\n",
            " 5   Worldwide_Gross  279 non-null    object\n",
            " 6   Description      295 non-null    object\n",
            "dtypes: int64(1), object(6)\n",
            "memory usage: 22.4+ KB\n",
            "None\n",
            "Year                 0\n",
            "Film                 0\n",
            "Publisher            0\n",
            "Director             0\n",
            "Distributor          0\n",
            "Worldwide_Gross    128\n",
            "Description        112\n",
            "dtype: int64\n",
            "col1 - 'N/A': 0\n",
            "col2 - 'N/A': 0\n",
            "col1 - 'n/a': 0\n",
            "col2 - 'n/a': 0\n",
            "col1 - 'na': 0\n",
            "col2 - 'na': 0\n",
            "col1 - 'NA': 0\n",
            "col2 - 'NA': 0\n",
            "col1 - 'null': 0\n",
            "col2 - 'null': 0\n",
            "col1 - 'NULL': 0\n",
            "col2 - 'NULL': 0\n",
            "col1 - '?': 0\n",
            "col2 - '?': 0\n",
            "col1 - '-': 0\n",
            "col2 - '-': 0\n",
            "col1 - 'none': 0\n",
            "col2 - 'none': 0\n",
            "col1 - 'None': 0\n",
            "col2 - 'None': 0\n",
            "col1 - ' ': 0\n",
            "col2 - ' ': 0\n",
            "26\n",
            "102\n",
            "86\n",
            "Year               0\n",
            "Film               0\n",
            "Publisher          0\n",
            "Director           0\n",
            "Distributor        0\n",
            "Worldwide_Gross    0\n",
            "Description        0\n",
            "dtype: int64\n"
          ]
        }
      ],
      "source": [
        "# Cleaning of data set.\n",
        "print(df2.info())\n",
        "print(df2.isnull().sum()) # It gives you the number of null values\n",
        "\n",
        "# You can remove null value rows using .dropna() or replace null values using .fillna()\n",
        "\n",
        "# print(df2['Worldwide_Gross'].unique()) # prints all unique values\n",
        "# print(df2['Description'].unique()) - prints all unique values\n",
        "\n",
        "suspicious_values = [\"N/A\", \"n/a\", \"na\", \"NA\", \"null\", \"NULL\", \"?\", \"-\", \"none\", \"None\", \" \"]\n",
        "for val in suspicious_values:\n",
        "  print(f\"col1 - '{val}':\", (df2['Worldwide_Gross'] == val).sum())\n",
        "  print(f\"col2 - '{val}':\", (df2['Description'] == val).sum())\n",
        "\n",
        "# This dataset just has null values (NaN) - NaN is the most common null entry\n",
        "# Besides that the other ones are suspicious_values mentioned above.\n",
        "\n",
        "both_null = df2[df2['Worldwide_Gross'].isna() & df2['Description'].isna()]\n",
        "print(len(both_null))\n",
        "\n",
        "gross_null = df2[df2['Worldwide_Gross'].isna() & df2['Description'].notna()]\n",
        "print(len(gross_null))\n",
        "\n",
        "desc_null = df2[df2['Worldwide_Gross'].notna() & df2['Description'].isna()]\n",
        "print(len(desc_null))\n",
        "\n",
        "# Till now we have found out number of null values in the dataset, two columns has them as NaN\n",
        "# Now we have to find a way to make a proper dataset to carry on visualization and correlation stuff.\n",
        "# For Gross, convert it into numeric and replace with median, for Description, replace it with description not availaible.\n",
        "\n",
        "# Column 1\n",
        "# Extract part inside parentheses, then replace the dollars signs and convert it into numeric\n",
        "df2['Worldwide_Gross'] = df2['Worldwide_Gross'].astype(str).str.extract(r'\\((.*?)\\)')[0]\n",
        "df2['Worldwide_Gross'] = df2['Worldwide_Gross'].replace('[\\$,]', '', regex=True)\n",
        "# Conversion into numeric\n",
        "df2['Worldwide_Gross'] = pd.to_numeric(df2['Worldwide_Gross'], errors = 'coerce')\n",
        "\n",
        "# Replace null values with median values\n",
        "median_gross = df2['Worldwide_Gross'].median()\n",
        "df2['Worldwide_Gross'] = df2['Worldwide_Gross'].fillna(median_gross)\n",
        "\n",
        "# Column 2\n",
        "df2['Description'] = df2['Description'].fillna('Description not available')\n",
        "print(df2.isnull().sum())\n",
        "\n",
        "# print(df2.to_string())\n",
        "\n",
        "# Null values sorted, now data is cleaned\n",
        "# Learnings: Conversion of data type to numeric, Replacing values.\n",
        "\n",
        "# Save cleaned dataset to CSV\n",
        "# df2.to_csv('superhero_movies_dataset_cleaned.csv', index=False)\n",
        "\n",
        "# Download it to your computer\n",
        "# from google.colab import files\n",
        "# files.download('superhero_movies_dataset_cleaned.csv')"
      ]
    },
    {
      "cell_type": "code",
      "execution_count": 20,
      "metadata": {
        "colab": {
          "base_uri": "https://localhost:8080/"
        },
        "id": "9Nps7b5Bu3mS",
        "outputId": "08ae1f2e-b55d-4050-d995-f8a641996c52"
      },
      "outputs": [
        {
          "output_type": "stream",
          "name": "stdout",
          "text": [
            "Correlation between Year and Worldwide gross\n",
            "0.17777222419327976\n",
            "Mean value of Gross in these endless years:  45760688.44375922 $\n",
            "Total Gross from 1937 to 2025:  18624600196.61 $\n",
            "Film with Highest Gross:\n",
            "     Year                                 Film Publisher     Director  \\\n",
            "252  2009  Transformers: Revenge of the Fallen    Hasbro  Michael Bay   \n",
            "\n",
            "            Distributor  Worldwide_Gross             Description  \n",
            "252  Paramount Pictures      836000000.3  Sequel to Transformers  \n",
            "\n",
            "Year               0\n",
            "Film               0\n",
            "Publisher          0\n",
            "Director           0\n",
            "Distributor        0\n",
            "Worldwide_Gross    0\n",
            "Description        0\n",
            "dtype: int64\n"
          ]
        }
      ],
      "source": [
        "# Now in the superhero movie data set there are no null values\n",
        "# Gross null entries has been replaced with median and description null entries have been replaced with \"No description availaible\".\n",
        "# So now lets see, what we can do.\n",
        "# Now we can check correlation method to check relation between columns.\n",
        "# Correlation values are between -1 and 1. where 1 is a perfect correlation and -1 means no correlation.\n",
        "\n",
        "# Correlation is only calculated between numerical columns\n",
        "print('Correlation between Year and Worldwide gross')\n",
        "print(df2['Year'].corr(df2['Worldwide_Gross']))\n",
        "\n",
        "print('Mean value of Gross in these endless years: ', df2['Worldwide_Gross'].mean(), '$')\n",
        "\n",
        "print('Total Gross from 1937 to 2025: ', df2['Worldwide_Gross'].sum(), '$')\n",
        "\n",
        "print('Film with Highest Gross:')\n",
        "if not df2['Worldwide_Gross'].isnull().all():\n",
        "  print(df2.loc[[df2['Worldwide_Gross'].idxmax()]])\n",
        "else:\n",
        "  print(\"Cannot determine the film with the highest gross as all 'Worldwide_Gross' values are NaN.\")\n",
        "\n",
        "print()\n",
        "\n",
        "print(df2.isnull().sum())\n",
        "\n",
        "# So I found out maximum and minimum gross, and also calculated mean and sum of worldwide gross."
      ]
    },
    {
      "cell_type": "code",
      "source": [
        "# plot() method is used to create diagrams\n",
        "df2.plot(kind = 'scatter', x='Year', y='Worldwide_Gross')\n",
        "plt.show()"
      ],
      "metadata": {
        "id": "xLCCWuWeg_wb",
        "colab": {
          "base_uri": "https://localhost:8080/",
          "height": 465
        },
        "outputId": "5c3595f7-6826-4028-9a74-4ea7a5a1fe03"
      },
      "execution_count": 21,
      "outputs": [
        {
          "output_type": "display_data",
          "data": {
            "text/plain": [
              "<Figure size 640x480 with 1 Axes>"
            ],
            "image/png": "[encoded data removed]"
          },
          "metadata": {}
        }
      ]
    },
    {
      "cell_type": "code",
      "source": [
        "# Pivot tables\n",
        "# What is a pivot table:\n",
        "# It summarizes data, group data by one or more columns, Apply aggregaation functions like sum, mean, count etc, rearranges data in a tabular form\n",
        "import pandas as pd\n",
        "\n",
        "data = {\n",
        "    'Department': ['Sales', 'Sales', 'HR', 'HR', 'IT', 'IT'],\n",
        "    'Employee': ['Alice', 'Bob', 'Carol', 'David', 'Eve', 'Frank'],\n",
        "    'Salary': [50000, 60000, 45000, 47000, 70000, 72000],\n",
        "    'Year': [2022, 2022, 2022, 2023, 2023, 2023]\n",
        "}\n",
        "\n",
        "df = pd.DataFrame(data)\n",
        "\n",
        "# Syntax for a pivot table using pandas\n",
        "# pd.pivot_table(\n",
        "#    data=df,values='column_to_aggregate',index='row_group',columns='column_group',aggfunc='mean/sum/count')\n",
        "pivot = pd.pivot_table(df, values='Salary', index='Department', columns='Year', aggfunc='count')\n",
        "# In addfunc you can use count/sum/mean.\n",
        "print(pivot)"
      ],
      "metadata": {
        "id": "SXCR8yr-97Qb",
        "colab": {
          "base_uri": "https://localhost:8080/"
        },
        "outputId": "085450b9-afc2-4af1-a4b7-6af05ba8dc5e"
      },
      "execution_count": 22,
      "outputs": [
        {
          "output_type": "stream",
          "name": "stdout",
          "text": [
            "Year        2022  2023\n",
            "Department            \n",
            "HR           1.0   1.0\n",
            "IT           NaN   2.0\n",
            "Sales        2.0   NaN\n"
          ]
        }
      ]
    }
  ],
  "metadata": {
    "colab": {
      "provenance": [],
      "authorship_tag": "ABX9TyMcWeiO9R1zunQI03tCNsdK",
      "include_colab_link": true
    },
    "kernelspec": {
      "display_name": "Python 3",
      "name": "python3"
    },
    "language_info": {
      "name": "python"
    }
  },
  "nbformat": 4,
  "nbformat_minor": 0
}