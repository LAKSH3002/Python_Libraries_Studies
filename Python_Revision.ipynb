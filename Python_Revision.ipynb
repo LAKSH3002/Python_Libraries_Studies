{
  "nbformat": 4,
  "nbformat_minor": 0,
  "metadata": {
    "colab": {
      "provenance": [],
      "authorship_tag": "ABX9TyN4ua8IdMIqv/p+72ygRmPC",
      "include_colab_link": true
    },
    "kernelspec": {
      "name": "python3",
      "display_name": "Python 3"
    },
    "language_info": {
      "name": "python"
    }
  },
  "cells": [
    {
      "cell_type": "markdown",
      "metadata": {
        "id": "view-in-github",
        "colab_type": "text"
      },
      "source": [
        "<a href=\"https://colab.research.google.com/github/LAKSH3002/Python_Libraries_Studies/blob/main/Python_Revision.ipynb\" target=\"_parent\"><img src=\"https://colab.research.google.com/assets/colab-badge.svg\" alt=\"Open In Colab\"/></a>"
      ]
    },
    {
      "cell_type": "code",
      "execution_count": null,
      "metadata": {
        "colab": {
          "base_uri": "https://localhost:8080/"
        },
        "id": "_wo8RgEpNkiH",
        "outputId": "b22de075-8cae-456f-fbe5-122f0711a495",
        "collapsed": true
      },
      "outputs": [
        {
          "output_type": "stream",
          "name": "stdout",
          "text": [
            "Hello World\n",
            "**********\n",
            "l J k\n",
            "5.0 9\n",
            "7\n",
            "k 9 5 Laksh\n",
            "Orange Orange Orange (3+2j)\n",
            "5 9 12\n",
            "What is your nameLaksh\n",
            "Laksh\n"
          ]
        }
      ],
      "source": [
        "# Chapter 1 : Numbers, Data types, Variables, comments, Casting, Type conversion, Inputs\n",
        "\n",
        "import random\n",
        "print('Hello World')\n",
        "print('*'*10)\n",
        "\n",
        "# Variable declaration and used it\n",
        "u = float(4)\n",
        "w = int(9)\n",
        "x = 5\n",
        "y = \"Laksh\"\n",
        "a = b = c = \"Orange\"\n",
        "d,e,f = 5,9,12\n",
        "fruits = ['l', 'J', 'k']\n",
        "cc  = 3+2j\n",
        "s,t,u = fruits\n",
        "print(s,t,u)\n",
        "\n",
        "# Int is a positive whole number (positive, negative), it can be of unlimited length\n",
        "# float is a decimal value,Float can also be scientific numbers with an \"e\" to indicate the power of 10.\n",
        "# Complex numbers are written with a \"j\" as the imaginary part\n",
        "# we can convert a value from one data type to another using type conversion\n",
        "xx = float(x)\n",
        "ww = str(w)\n",
        "print(xx, ww)\n",
        "print(random.randrange(1,20))\n",
        "\n",
        "# values printed\n",
        "print(u, w, x, y)\n",
        "print(a,b,c,cc)\n",
        "print(d,e,f)\n",
        "\n",
        "var = input('What is your name')\n",
        "print(var)"
      ]
    },
    {
      "cell_type": "code",
      "source": [
        "# Chapter 2: Strings in Python\n",
        "\n",
        "# 1) Multiline Strings\n",
        "x = \"\"\"Hello World\n",
        "How are you doing\"\"\"\n",
        "print(x)\n",
        "\n",
        "# 2) Strings can be represented as array too\n",
        "xx = \"Laksh is a Hero\"\n",
        "ss = \"Apple is a good fruit\"\n",
        "print(xx[0], len(ss), len(xx))\n",
        "print(\"good\" in ss, \"good\" not in ss) # They can be presented in form of strings as well.\n",
        "print(ss[2:7], ss[:5], ss[4:]) # Slicing of strings\n",
        "print(xx[-5:-1])\n",
        "print(ss + \" \" + xx)\n",
        "\n",
        "# Formatting of Strings\n",
        "age = 36\n",
        "txt = f\"My name is John, I am {age}\"\n",
        "print(txt)\n",
        "\n",
        "price = 59\n",
        "txt2 = f\"The price is {price:.2f} dollars\"\n",
        "print(txt2)\n",
        "\n",
        "# escape sequence: \\n, \\t, \\b, \\\\\n",
        "# Python has boolean values"
      ],
      "metadata": {
        "colab": {
          "base_uri": "https://localhost:8080/"
        },
        "id": "zpmAs4hLoYfq",
        "outputId": "fac7bc7b-adac-4070-8e7e-f36917ebf63a",
        "collapsed": true
      },
      "execution_count": null,
      "outputs": [
        {
          "output_type": "stream",
          "name": "stdout",
          "text": [
            "Hello World\n",
            "How are you doing\n",
            "L 21 15\n",
            "True False\n",
            "ple i Apple e is a good fruit\n",
            " Her\n",
            "Apple is a good fruit Laksh is a Hero\n",
            "My name is John, I am 36\n",
            "The price is 59.00 dollars\n",
            "False False False\n"
          ]
        }
      ]
    },
    {
      "cell_type": "code",
      "source": [
        "# Chapter 3: Booleans and operators\n",
        "\n",
        "# there are not many values that evaluate to False, except empty values, such as (), [], {}, \"\",\n",
        "# the number 0, and the value None. And of course the value False evaluates to False.\n",
        "\n",
        "print(bool(False), bool(()), bool())\n",
        "print(bool(2), bool(\"Laksh\"))\n",
        "\n",
        "# Membership operator (in and not in)\n",
        "# check if a sequence with the specified value is present in the object or not.\n",
        "\n",
        "#bitwsise operator: And, Or, Zero fill left shift, Signed right shift, not operations\n",
        "# Zero fill left right - Shift left by pushing zeros in from the right and let the leftmost bits fall off\n",
        "# Signed right shift - Shift right by pushing copies of the leftmost bit in from the left, and let the rightmost bits fall off\n",
        "print(6 & 3, 5 | 2, 4 >> 2, 5 << 3, ~5)\n",
        "\n",
        "# Precedence operator of operators: (), **, +x and -x, *, /, %, then additon and subraction, then bitwise operators."
      ],
      "metadata": {
        "colab": {
          "base_uri": "https://localhost:8080/"
        },
        "id": "2FvRkqdqF3p9",
        "outputId": "fed1920f-0acc-4986-9e7c-9480fc5a0b27",
        "collapsed": true
      },
      "execution_count": null,
      "outputs": [
        {
          "output_type": "stream",
          "name": "stdout",
          "text": [
            "False False False\n",
            "True True\n",
            "2 7 1 40 -6\n"
          ]
        }
      ]
    },
    {
      "cell_type": "code",
      "source": [
        "# Chapter 4: Collection of Items\n",
        "# For lists, tuples, sets and dictionary along with its operations go to pycharm and revise,\n",
        "# Any theoritical important information of it will be there on the word document.\n",
        "\n",
        "# A - lists\n",
        "# Lists are changeable\n",
        "# List is created using [] brackets\n",
        "fruits = ['grapes', 'apples', 'bananas', 'cherry', 'strawberry']\n",
        "for x in fruits:\n",
        "  print(x)\n",
        "\n",
        "# List Comprehension\n",
        "newlist = [x for x in fruits if \"a\" in x]\n",
        "newlist2 = [x for x in range(10)]\n",
        "newlist3 = ['hello' for x in fruits]\n",
        "print(newlist)\n",
        "print(newlist2)\n",
        "print(newlist3)\n",
        "\n",
        "#Sorting of list - by default sort method is case sensitive\n",
        "fruits.sort(key=str.lower)\n",
        "print(fruits)\n",
        "n = [2, 7, 9, 1, 0, 9, 3, 22]\n",
        "n.sort()\n",
        "print(n) # AO\n",
        "n.sort(reverse=True)\n",
        "print(n) #DO\n",
        "\n",
        "# copy list items\n",
        "copylist = fruits.copy()\n",
        "# 2nd method: copylist = list(thislist)\n",
        "# 3rd method: thislist[:]\n",
        "join = fruits + n\n",
        "print(join)\n",
        "print(copylist)"
      ],
      "metadata": {
        "colab": {
          "base_uri": "https://localhost:8080/"
        },
        "id": "hK-p73UzJDsy",
        "outputId": "05d3366b-4e35-48a3-dc23-6599f7c62e53",
        "collapsed": true
      },
      "execution_count": null,
      "outputs": [
        {
          "output_type": "stream",
          "name": "stdout",
          "text": [
            "grapes \n",
            "apples \n",
            "bananas \n",
            "cherry \n",
            "strawberry \n",
            "['grapes', 'apples', 'bananas', 'strawberry']\n",
            "[0, 1, 2, 3, 4, 5, 6, 7, 8, 9]\n",
            "['hello', 'hello', 'hello', 'hello', 'hello']\n",
            "['apples', 'bananas', 'cherry', 'grapes', 'strawberry']\n",
            "[0, 1, 2, 3, 7, 9, 9, 22]\n",
            "[22, 9, 9, 7, 3, 2, 1, 0]\n",
            "['apples', 'bananas', 'cherry', 'grapes', 'strawberry', 22, 9, 9, 7, 3, 2, 1, 0]\n",
            "['apples', 'bananas', 'cherry', 'grapes', 'strawberry']\n"
          ]
        }
      ]
    },
    {
      "cell_type": "code",
      "source": [
        "# Tuples\n",
        "# A tuple is a collection which is ordered and unchangeable and allow duplicates.\n",
        "# Tuples are written with round brackets. length taken out using len\n",
        "\n",
        "my_Tuple = (4, 5, 6, 7, 8, 9)\n",
        "onetuple = ('Apple',) # remember the comma if there is only one item to be presented in the tuple.\n",
        "print(type(my_Tuple))\n",
        "# Tuples value are accessed in the same manner that of list, range, negative indexing and more\n",
        "print(my_Tuple[3])\n",
        "print(my_Tuple[2:4])\n",
        "\n",
        "# In order to change the tuple, convert it into a list, perform operations and then convert it back into tuple.\n",
        "t = list(my_Tuple)\n",
        "t[1] = 55\n",
        "print(my_Tuple)\n",
        "del my_Tuple # This deletes the tuple\n",
        "\n",
        "fruits = ('apple', 'orange', 'chiku', 'banananas')\n",
        "(g,r,d,e) = fruits\n",
        "(green, *tropic, red) = fruits\n",
        "print(tropic)\n",
        "print(g,d,e,r)\n",
        "\n",
        "# looping a tuple - normal way\n",
        "for i in range(len(fruits)):\n",
        "  print(fruits[i])"
      ],
      "metadata": {
        "colab": {
          "base_uri": "https://localhost:8080/"
        },
        "id": "5Cn9wu7Ss5VQ",
        "outputId": "6562ea3f-ad48-4bb0-afa4-21581924f8f0",
        "collapsed": true
      },
      "execution_count": null,
      "outputs": [
        {
          "output_type": "stream",
          "name": "stdout",
          "text": [
            "<class 'tuple'>\n",
            "7\n",
            "(6, 7)\n",
            "(4, 5, 6, 7, 8, 9)\n",
            "['orange', 'chiku']\n",
            "apple chiku banananas orange\n",
            "apple\n",
            "orange\n",
            "chiku\n",
            "banananas\n"
          ]
        }
      ]
    },
    {
      "cell_type": "code",
      "source": [
        "# Sets.\n",
        "# A set is a collection that is unordered, unchangeable and unindexed.\n",
        "# Sets do no allow duplicate values\n",
        "# The values true & 1 and False & 0 are considered same in set and thus duplicates (imp in case of joining)\n",
        "# Enclosed within curly braces\n",
        "\n",
        "# Creation methods of sets\n",
        "thisset = {7,6,9,10,22}z\n",
        "print(len(thisset))\n",
        "thisset2 = {\"apple\", 34, True, 44.5}\n",
        "print(type(thisset2))\n",
        "thisset3 = set(('Hello', 'Hi'))\n",
        "print(thisset3)\n",
        "\n",
        "# You cannot access values of a set directly, its possible with a loop or else use conditions\n",
        "print(10 in thisset)\n",
        "print('Hello Hi' in thisset)\n",
        "thisset.add(44)\n",
        "# To add content from one tuple to another we use update() function.\n",
        "# By default elements are arranged in ascending order\n",
        "thisset.update(thisset2)\n",
        "print(thisset)\n",
        "\n",
        "# Both thses methods will remove that specific value\n",
        "thisset3.remove('Hi')\n",
        "thisset2.discard(34)\n",
        "print(thisset3)\n",
        "# pop() removes a random value\n",
        "# clear() empties the whole set.\n",
        "del thisset3\n",
        "\n",
        "# There are several ways to join sets\n",
        "# Union, Intersection, difference,\n",
        "# you can also join a set with a tuple\n",
        "set1 = {1,2,3,4,5,}\n",
        "set2 = {'L', 'K', 'J', 'H'}\n",
        "# 1) Union: Can add n number of sets with the primary set\n",
        "# Both union() and update() will remove duplicate items\n",
        "set3 = set1.union(set2) # can also write set 1 | set 2 | set 3 | set 4\n",
        "print(set3)\n",
        "\n",
        "# 2 - Intersection - All the elements in common will be printed\n",
        "set11 = {\"apple\", \"banana\", \"cherry\"}\n",
        "set22 = {\"google\", \"microsoft\", \"apple\"}\n",
        "\n",
        "set33 = set11.intersection(set22) # set22 & set33\n",
        "print(set33)\n",
        "\n",
        "# intersection_update(), systematic_difference_update(), difference_update()\n",
        "# All the above will change the original set instead of returning a new set\n",
        "s1 = {\"apple\", \"banana\", \"cherry\"}\n",
        "s2 = {\"google\", \"microsoft\", \"apple\"}\n",
        "s1.intersection_update(s2)\n",
        "print(s1)\n",
        "\n",
        "# 4 - difference: items from set1 and excludes items from set2 (returns a new set)\n",
        "s33 = s1.difference(s2) # can also write s1 - s2\n",
        "# systematic difference: will keep only the elements that are NOT present in both the sets."
      ],
      "metadata": {
        "colab": {
          "base_uri": "https://localhost:8080/"
        },
        "id": "5oznG-rDgF1I",
        "outputId": "05a02b25-5d95-4565-c961-ab9de7ef3968",
        "collapsed": true
      },
      "execution_count": null,
      "outputs": [
        {
          "output_type": "stream",
          "name": "stdout",
          "text": [
            "5\n",
            "<class 'set'>\n",
            "{'Hello', 'Hi'}\n",
            "True\n",
            "False\n",
            "{True, 'apple', 34, 6, 7, 9, 10, 44, 44.5, 22}\n",
            "{'Hello'}\n",
            "{1, 2, 3, 4, 5, 'J', 'H', 'K', 'L'}\n",
            "{'apple'}\n"
          ]
        }
      ]
    },
    {
      "cell_type": "code",
      "source": [
        "# Dictionaries: Data stored in key value pairs\n",
        "# A collection which is ordered, changeable & do not allow duplicates, enclosed within curly braces\n",
        "# The items are referred using the key name.\n",
        "# If we duplicate values, then the lastly declared key will overwrite previous key.\n",
        "# Method 1 of declaring a dictionary\n",
        "thisdict = {\n",
        "  \"brand\": \"Ford\",\n",
        "  \"model\": \"Mustang\",\n",
        "  \"year\": 1964\n",
        "}\n",
        "print(len(thisdict)) # Number of items a dictionary has\n",
        "print(thisdict)\n",
        "print(type(thisdict))\n",
        "\n",
        "# Method 2 of declaring a dictionary\n",
        "thisdict2 = dict(name = \"John\", age = 36, country = \"Norway\")\n",
        "print(thisdict2)\n",
        "\n",
        "# method to access a single key/all the keys in a dictionary\n",
        "x = thisdict.get(\"model\")\n",
        "print(x)\n",
        "y = thisdict.keys() # keys of the dictionary\n",
        "print(y)\n",
        "z = thisdict.values() # values of dictionary\n",
        "print(z)\n",
        "w = thisdict.items() # items in tuples format\n",
        "print(w)\n",
        "\n",
        "# changing items in a dictionary\n",
        "thisdict['year'] = 2023 # method 1\n",
        "thisdict.update({\"year\": 2023}) # method 2\n",
        "\n",
        "# adding items in a dictionary: use the update method or normally add it.\n",
        "thisdict.update({\"Laksh\": \"Hero\"})\n",
        "print(thisdict)\n",
        "# or thisdict['laksh'] = 'hero'\n",
        "\n",
        "# removing items from a dictionary\n",
        "thisdict.pop(\"model\")\n",
        "print(thisdict)\n",
        "# or you can use thisdict.popitem(), thisdict.clear(), del thisdict()\n",
        "\n",
        "# loop through dictionaries\n",
        "for i in thisdict:\n",
        "  print(i)\n",
        "# x will print keys, thisdict[x] will print values, thisdict.items() will help print both\n",
        "\n",
        "for i in thisdict.keys():\n",
        "  print(i)\n",
        "# the above for loop prints keys, to print values: thisdict.values()\n",
        "\n",
        "# Copying dictionaries - 2 methods\n",
        "mydict = thisdict.copy()\n",
        "mydict2 = dict(thisdict)\n",
        "print(mydict)\n",
        "print(mydict2)\n",
        "\n",
        "# Nested dictionaries\n",
        "family = {\n",
        "    \"child1\" : {\n",
        "    \"name\" : \"Emil\",\n",
        "    \"year\" : 2004\n",
        "    },\n",
        "    \"child2\" : {\n",
        "    \"name\" : \"Tobias\",\n",
        "    \"year\" : 2007\n",
        "    },\n",
        "    \"child3\" : {\n",
        "    \"name\" : \"Linus\",\n",
        "    \"year\" : 2011\n",
        "    }\n",
        "}\n",
        "print(family)\n",
        "\n",
        "# most important dictionary methods\n",
        "# len, type, update(), pop(), popitem(), clear(), del, .get, .keys, .values, .items, .copy()"
      ],
      "metadata": {
        "colab": {
          "base_uri": "https://localhost:8080/"
        },
        "collapsed": true,
        "id": "fescNN78aR8r",
        "outputId": "a40913ae-7752-4045-f8e6-904945a4e913"
      },
      "execution_count": null,
      "outputs": [
        {
          "output_type": "stream",
          "name": "stdout",
          "text": [
            "3\n",
            "{'brand': 'Ford', 'model': 'Mustang', 'year': 1964}\n",
            "<class 'dict'>\n",
            "{'name': 'John', 'age': 36, 'country': 'Norway'}\n",
            "Mustang\n",
            "dict_keys(['brand', 'model', 'year'])\n",
            "dict_values(['Ford', 'Mustang', 1964])\n",
            "dict_items([('brand', 'Ford'), ('model', 'Mustang'), ('year', 1964)])\n",
            "{'brand': 'Ford', 'model': 'Mustang', 'year': 2023, 'Laksh': 'Hero'}\n",
            "{'brand': 'Ford', 'year': 2023, 'Laksh': 'Hero'}\n",
            "brand\n",
            "year\n",
            "Laksh\n",
            "brand\n",
            "year\n",
            "Laksh\n",
            "{'brand': 'Ford', 'year': 2023, 'Laksh': 'Hero'}\n",
            "{'brand': 'Ford', 'year': 2023, 'Laksh': 'Hero'}\n",
            "{'child1': {'name': 'Emil', 'year': 2004}, 'child2': {'name': 'Tobias', 'year': 2007}, 'child3': {'name': 'Linus', 'year': 2011}}\n"
          ]
        }
      ]
    },
    {
      "cell_type": "code",
      "source": [
        "# Comparison between lists, sets, tuples and dictionaries.\n",
        "# 1) List\n",
        "# Items enclosed within squared brackets,\n",
        "# Lists are ordered (defined order), changeable (add, remove items) and allow duplicate items\n",
        "\n",
        "# 2) Sets\n",
        "# Sets are enclosed within curly braces\n",
        "# Sets are unordered, unchangeable and does not allow duplicates\n",
        "\n",
        "# 3) Tuples\n",
        "# Tuples are enclosed inside round brackets\n",
        "# Tuples are Ordered, unchangeable and allows duplicates\n",
        "\n",
        "# 4) Dictionary\n",
        "# They are in the form of key-value pairs\n",
        "# They are ordered, changeable and do not allow duplicates (similiar to a real dictionary)"
      ],
      "metadata": {
        "id": "31S4cDcdp_kL"
      },
      "execution_count": null,
      "outputs": []
    },
    {
      "cell_type": "code",
      "source": [
        "# Match expression: Similiar to switch-case of java\n",
        "day = 4\n",
        "match day:\n",
        "  case 1:\n",
        "    print(\"Monday\")\n",
        "  case 2:\n",
        "    print(\"Tuesday\")\n",
        "  case 3:\n",
        "    print(\"Wednesday\")\n",
        "  case 4:\n",
        "    print(\"Thursday\")\n",
        "  case 5:\n",
        "    print(\"Friday\")\n",
        "  case 6:\n",
        "    print(\"Saturday\")\n",
        "  case _:\n",
        "    print(\"Sunday\")\n",
        "\n",
        "# The underscore is like print this if none matches\n",
        "# we can also use the pipe character as an operator\n",
        "day2 = 4\n",
        "month = 4\n",
        "match day2:\n",
        "  case 1 | 2 | 3 | 4 | 5 if month==4:\n",
        "    print(\"Weekday\")\n",
        "  case 6 | 7 if month==5:\n",
        "    print(\"Weekend\")\n",
        "  case _:\n",
        "    print('No match')"
      ],
      "metadata": {
        "colab": {
          "base_uri": "https://localhost:8080/"
        },
        "id": "4T6Xmrxw3-DF",
        "outputId": "cae045f2-6bb9-4e50-e64c-330223977858",
        "collapsed": true
      },
      "execution_count": null,
      "outputs": [
        {
          "output_type": "stream",
          "name": "stdout",
          "text": [
            "Thursday\n",
            "Weekday\n"
          ]
        }
      ]
    },
    {
      "cell_type": "code",
      "source": [
        "# for loop\n",
        "# syntax: for variable name in Iterator: then printing statements\n",
        "names = ['Laksh', 'varun', 'jay', 'shah']\n",
        "for x in names:\n",
        "  print(x)\n",
        "\n",
        "# break and continue statements in loops\n",
        "for i in names:\n",
        "  print(i)\n",
        "  if i == 'varun':\n",
        "   break\n",
        "\n",
        "for i2 in names:\n",
        "  if i2 == 'varun':\n",
        "    continue\n",
        "  print(i2)\n",
        "\n",
        "# range() - returns a sequence of numbers, starting from 0 by default and increments by 1\n",
        "# for r in range(3,30,6):\n",
        "#  print(r)\n",
        "\n",
        "# Nested Loops\n",
        "adj = [\"r\", \"b\", \"t\"]\n",
        "fruits = [\"a\", \"b\", \"c\"]\n",
        "\n",
        "for x in adj:\n",
        "  for y in fruits:\n",
        "    print(x, y)\n",
        "\n",
        "# pass statement\n",
        "for x in [0,1,2]:\n",
        "  pass\n",
        "\n",
        "# 2) WHILE LOOP\n",
        "w = 1\n",
        "while w<6:\n",
        "  print(w)\n",
        "  w = w + 1\n",
        "\n",
        "# break and continue in while loop\n",
        "w2 = 1\n",
        "while w2<6:\n",
        "  print(w2)\n",
        "  if w2 == 3:\n",
        "    break\n",
        "  w2 = w2 + 1"
      ],
      "metadata": {
        "colab": {
          "base_uri": "https://localhost:8080/"
        },
        "id": "1FTbeIuyBokM",
        "outputId": "b0a14077-264e-4ab1-e6ce-135c4919e529",
        "collapsed": true
      },
      "execution_count": null,
      "outputs": [
        {
          "output_type": "stream",
          "name": "stdout",
          "text": [
            "Laksh\n",
            "varun\n",
            "jay\n",
            "shah\n",
            "Laksh\n",
            "varun\n",
            "Laksh\n",
            "jay\n",
            "shah\n",
            "r a\n",
            "r b\n",
            "r c\n",
            "b a\n",
            "b b\n",
            "b c\n",
            "t a\n",
            "t b\n",
            "t c\n",
            "1\n",
            "2\n",
            "3\n",
            "4\n",
            "5\n",
            "1\n",
            "2\n",
            "3\n"
          ]
        }
      ]
    },
    {
      "cell_type": "code",
      "source": [
        "# Functions\n",
        "def myfunction():\n",
        "  print('Hello I am a function')\n",
        "\n",
        "myfunction()\n",
        "\n",
        "# passing arguments\n",
        "def myfunction2(name): # here name is an argument\n",
        "  print(name+ \" is a lengend\") # here name is reffered to as a parameter\n",
        "\n",
        "myfunction2('Laksh')\n",
        "# Number of arguments must match while making the function call, otherwise it will throw an error\n",
        "# If we do not know the number of arguments to be sent to the function, add a *with the variable\n",
        "\n",
        "# arbitrary keyword arguments: double asterick **variable name: when we do not know how many arguments will be passed\n",
        "# double asterick will return key value pairs, single asterisk is to pass a tuple\n",
        "def function3(**name):\n",
        "  print(name['lname'] + \" \" + name['fname'])\n",
        "\n",
        "function3(fname='laksh', lname='doshi')\n",
        "\n",
        "# Default values:\n",
        "def country(c = 'india'):\n",
        "  print(c)\n",
        "\n",
        "country('Australia')\n",
        "country()\n",
        "\n",
        "# We can also declare a list and pass it as an argument, but then add a loop in the function to extract all items\n",
        "# Functions with a return value\n",
        "def returningfunction(x):\n",
        "  return 5*x\n",
        "\n",
        "print(returningfunction(10))\n",
        "\n",
        "# Like loops, functions cannot be empty too, thus we use pass\n",
        "\n",
        "# Doubt in positional-only arguments and keyword only arguments\n",
        "# To specify that a function can have only positional arguments: use ,/ after the argument\n",
        "# To specify that a function can have only keyword arguments: use ,* after the argument\n",
        "def f(*,x): # f(x,/)\n",
        "  print(x)\n",
        "\n",
        "f(x=3)\n",
        "\n",
        "# Recursion - calling a function within a function\n",
        "# use case: calculating factorials, fibonacci sequence\n",
        "def factorial(n):\n",
        "  if(n>0):\n",
        "    return n*factorial(n-1)\n",
        "  else:\n",
        "    return 1\n",
        "\n",
        "factorial(6)"
      ],
      "metadata": {
        "colab": {
          "base_uri": "https://localhost:8080/"
        },
        "id": "YeO2zBgGdBGH",
        "outputId": "bb38f14a-aeae-42dd-9bf6-e054ac8bef2c",
        "collapsed": true
      },
      "execution_count": null,
      "outputs": [
        {
          "output_type": "stream",
          "name": "stdout",
          "text": [
            "Hello I am a function\n",
            "Laksh is a lengend\n",
            "doshi laksh\n",
            "Australia\n",
            "india\n",
            "50\n",
            "3\n"
          ]
        },
        {
          "output_type": "execute_result",
          "data": {
            "text/plain": [
              "720"
            ]
          },
          "metadata": {},
          "execution_count": 15
        }
      ]
    },
    {
      "cell_type": "code",
      "source": [
        "# Lambda function: Anonymous function\n",
        "# It can take any number of arguments, but can have only one expression\n",
        "x = lambda a,b,c: a+b+c\n",
        "print(x(6,5,2))\n",
        "\n",
        "# Why to use lambda function\n",
        "# The power of lambda is better shown when you use them as an anonymous function inside another function.\n",
        "# Say you have a function definition that takes one argument, and that argument will be multiplied with an unknown number:\n",
        "def myfunc(n):\n",
        "  return lambda a : a * n\n",
        "\n",
        "mydoubler = myfunc(2)\n",
        "mytripler = myfunc(3)\n",
        "print(mydoubler(11))\n",
        "print(mytripler(11))"
      ],
      "metadata": {
        "colab": {
          "base_uri": "https://localhost:8080/"
        },
        "collapsed": true,
        "id": "5bCiwO9xT22l",
        "outputId": "faebeb52-df79-436f-bae8-b7448ad12dcb"
      },
      "execution_count": null,
      "outputs": [
        {
          "output_type": "stream",
          "name": "stdout",
          "text": [
            "13\n",
            "22\n",
            "33\n"
          ]
        }
      ]
    },
    {
      "cell_type": "code",
      "source": [
        "# Arrays: Python does not have built-in support for arrays, but python lists can be used instead\n",
        "# Arrays is a special variable that holds more than one values at a time.\n",
        "cars = ['ford', 'toyota', 'mercedes']\n",
        "cars.append('bmw')\n",
        "print(cars)\n",
        "cars.pop(1)\n",
        "\n",
        "# Some methods: append(), clear(), copy(), count(), pop(), remove(), reverse()"
      ],
      "metadata": {
        "id": "FN0g8cBn2Sme"
      },
      "execution_count": null,
      "outputs": []
    },
    {
      "cell_type": "code",
      "source": [
        "# OOP - object oriented programming (the concept of classes and objects)\n",
        "# Reusable set of codes, clear structure of programs\n",
        "\n",
        "# 1 - Class (It is like a blueprint or an object constructor)\n",
        "# Class creation\n",
        "class name:\n",
        "  x = 5\n",
        "\n",
        "# Object creation\n",
        "p = name()\n",
        "print(p.x)\n",
        "\n",
        "# The __init__() function: automatically called every time class is used to create an object\n",
        "# All classes have this function, which is always executed when the class is being initiated\n",
        "# Use this function to assign values to object properties.\n",
        "class People:\n",
        "  def __init__(self,name,age):\n",
        "    self.name = name\n",
        "    self.age = age\n",
        "\n",
        "  # __str__() function controls what should be returned when the class object is represented as a string\n",
        "  def __str__(self):\n",
        "    return f\"{self.name}({self.age})\"\n",
        "\n",
        "p = People('Laksh', 23)\n",
        "print(p)\n",
        "\n",
        "# with __init__() the string representation of the object is returned\n",
        "class Person2:\n",
        "  def __init__(person, name, age):\n",
        "    person.name = name\n",
        "    person.age = age\n",
        "\n",
        "  def __str__(abc):\n",
        "    return f\"{abc.name}({abc.age})\"\n",
        "\n",
        "p1 = Person2('Doshi', 22)\n",
        "p1.age = 23\n",
        "print(p1)\n",
        "\n",
        "# I also did deleting of objects and parameters\n",
        "# Defining classes, objects, init function and str function and its use"
      ],
      "metadata": {
        "colab": {
          "base_uri": "https://localhost:8080/"
        },
        "id": "SvcjrhY1ytBO",
        "outputId": "c9596eef-646b-40cf-a0d8-0290b61b2cd6",
        "collapsed": true
      },
      "execution_count": null,
      "outputs": [
        {
          "output_type": "stream",
          "name": "stdout",
          "text": [
            "5\n",
            "Laksh(23)\n",
            "Doshi(23)\n"
          ]
        }
      ]
    },
    {
      "cell_type": "code",
      "source": [
        "# Inheritance\n",
        "# Concept of parent class and child class\n",
        "\n",
        "# Parent class - simple class with basic syntax\n",
        "class Person:\n",
        "  def __init__(mine, name, age):\n",
        "    mine.name = name\n",
        "    mine.age = age\n",
        "\n",
        "  def printname(boy):\n",
        "    print(boy.name, boy.age)\n",
        "\n",
        "x = Person('Laksh', '22')\n",
        "x.printname()\n",
        "\n",
        "# Child class\n",
        "class Student(Person):\n",
        "  pass\n",
        "\n",
        "y = Student('Jay', '22')\n",
        "y.printname()\n",
        "\n",
        "# In case we dont want to use pass then use the __init__() function\n",
        "# But when this function is added, the class will no longer inherit parent's methods\n",
        "# TO keep the inheritance of the parent class, add a call to the parent's __init__() function\n",
        "# init function is a constructor that helps to initialize a newly created object state.\n",
        "\n",
        "class student2(Person):\n",
        "  def __init__(self, name, age):\n",
        "    Person.__init__(self, name, age)\n",
        "\n",
        "z = student2('Swini', '25')\n",
        "z.printname()\n",
        "\n",
        "# Super keyword: It Makes the child class inherits everything from the parent class without using the parent name\n",
        "# Syntax: super.__init__()\n",
        "\n",
        "# New child class with everything combined\n",
        "class Student3(Person):\n",
        "  def __init__(self, fname, lname, year):\n",
        "    super().__init__(fname, lname)\n",
        "    self.graduationyear = year\n",
        "\n",
        "  def welcome(self):\n",
        "    print(\"Welcome\", self.name, \"to the class of\", self.graduationyear)\n",
        "\n",
        "obj = Student3('Laksh', 'Doshi', 2023)\n",
        "print(obj.graduationyear)\n",
        "obj.welcome()\n",
        "\n",
        "# To discuss in detail: init function, super function and inheriting technique in Python."
      ],
      "metadata": {
        "colab": {
          "base_uri": "https://localhost:8080/"
        },
        "id": "W45V-UFmyvBe",
        "outputId": "88cb9c74-0bb8-42a8-f1fb-3b1b3b2e7907"
      },
      "execution_count": null,
      "outputs": [
        {
          "output_type": "stream",
          "name": "stdout",
          "text": [
            "Laksh 22\n",
            "Jay 22\n",
            "Swini 25\n",
            "2023\n",
            "Welcome Laksh to the class of 2023\n"
          ]
        }
      ]
    },
    {
      "cell_type": "code",
      "source": [
        "# Polymorphism\n",
        "# Same name function with different parameters\n",
        "# class 1\n",
        "class Car:\n",
        "  def __init__(cars, brand, model):\n",
        "    cars.brand = brand\n",
        "    cars.model = model\n",
        "\n",
        "  def move(cars):\n",
        "    print('drive')\n",
        "\n",
        "# Class 2\n",
        "class Boat:\n",
        "  def __init__(boat, brand, model):\n",
        "    boat.brand = brand\n",
        "    boat.model = model\n",
        "\n",
        "  def move(boat):\n",
        "    print('sail')\n",
        "\n",
        "# class 3\n",
        "class Plane:\n",
        "  def __init__(plane, brand, model):\n",
        "    plane.brand = brand\n",
        "    plane.model = model\n",
        "\n",
        "  def move(plane):\n",
        "    print('fly')\n",
        "\n",
        "car1 = Car('Ford', 'Mustang')\n",
        "boat1 = Boat('Ibiza', 'Touring 20')\n",
        "plane1 = Plane('Boeing', '747')\n",
        "\n",
        "for x in (car1, boat1, plane1):\n",
        "  print(x.brand)\n",
        "\n",
        "\n",
        "# Polymorphism and Inheritance requires more pratice and revision to get good with it."
      ],
      "metadata": {
        "colab": {
          "base_uri": "https://localhost:8080/"
        },
        "id": "RC4GxDgJBv4n",
        "outputId": "c4d7013c-30a0-4beb-fda6-a4f35bb091d3"
      },
      "execution_count": null,
      "outputs": [
        {
          "output_type": "stream",
          "name": "stdout",
          "text": [
            "Ford\n",
            "Ibiza\n",
            "Boeing\n"
          ]
        }
      ]
    },
    {
      "cell_type": "code",
      "source": [
        "# Iterators - contains a countable number of objects.\n",
        "# Two methods: __iter__ and __next__\n",
        "# Create an iterator\n",
        "# Will have to understand more to write code for iterators, polymorphism and inheritance."
      ],
      "metadata": {
        "id": "wIQl-UP1Erp2"
      },
      "execution_count": null,
      "outputs": []
    },
    {
      "cell_type": "code",
      "source": [],
      "metadata": {
        "id": "l2XU5wlKGMJq"
      },
      "execution_count": null,
      "outputs": []
    }
  ]
}