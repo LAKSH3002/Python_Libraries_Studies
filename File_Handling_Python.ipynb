{
  "nbformat": 4,
  "nbformat_minor": 0,
  "metadata": {
    "colab": {
      "provenance": [],
      "authorship_tag": "ABX9TyPeQnCtMJgknvUzpKqMXnSb",
      "include_colab_link": true
    },
    "kernelspec": {
      "name": "python3",
      "display_name": "Python 3"
    },
    "language_info": {
      "name": "python"
    }
  },
  "cells": [
    {
      "cell_type": "markdown",
      "metadata": {
        "id": "view-in-github",
        "colab_type": "text"
      },
      "source": [
        "<a href=\"https://colab.research.google.com/github/LAKSH3002/Python_Libraries_Studies/blob/main/File_Handling_Python.ipynb\" target=\"_parent\"><img src=\"https://colab.research.google.com/assets/colab-badge.svg\" alt=\"Open In Colab\"/></a>"
      ]
    },
    {
      "cell_type": "code",
      "execution_count": null,
      "metadata": {
        "colab": {
          "base_uri": "https://localhost:8080/"
        },
        "id": "Lgz2N_whEqxn",
        "outputId": "8e10441c-67bc-4ae3-e4cb-23fc6640f861",
        "collapsed": true
      },
      "outputs": [
        {
          "output_type": "stream",
          "name": "stdout",
          "text": [
            "Content creators and their niche\n",
            "\n",
            "Data Analyst Important SKill Set as a beginner\n",
            "\n",
            "Python Programming language.\n",
            "\n",
            "Python Libraries: Pandas, Numpy, Matplotlib, Scikitlearn\n",
            "\n",
            "R programming language\n",
            "\n",
            "Microsoft Excel\n",
            "\n",
            "Tableau and PowerBI.\n",
            "\n",
            "Content creators and their niche\n",
            "\n",
            "\n",
            "\n",
            "1) Aapkajags: Relatable content (Pure)\n",
            "\n",
            "\n",
            "\n",
            "2) Sachin awasti: Honest reaction towards things\n",
            "\n"
          ]
        }
      ],
      "source": [
        "# File Handling\n",
        "# Important aspect in data scienece, helps you create, read, update and delete files.\n",
        "\n",
        "#  Key function to work with files in python is open() function : filename and mode.\n",
        "#  There are 4 different methods to open a file: r(read), a(eppend), w(write), x(create): r is default\n",
        "#  Other two methods: t(text readind, default), b(binary mode)\n",
        "\n",
        "# This is to open the file in this python server.\n",
        "f = open('Content creators and their niche.txt','rt')\n",
        "print(f.readline())\n",
        "\n",
        "# with function\n",
        "with open('Data Analyst Important SKill Set.txt','rt') as f2:\n",
        "    print(f2.read())\n",
        "    # print(f2.readline()) to print first line of file\n",
        "# Using with we do not have to worry about closing the files\n",
        "\n",
        "f.close()\n",
        "f2.close()\n",
        "\n",
        "# We can also read specific part of a file by specified the number of characters.\n",
        "print()\n",
        "with open('Content creators and their niche.txt','rt') as f3:\n",
        "  print(f3.readline())\n",
        "  print(f3.readline())\n",
        "  print(f3.readline())\n",
        "\n",
        "# Opening and closing of file done, reading of file done, reading first line of file also done."
      ]
    },
    {
      "cell_type": "code",
      "source": [
        "# In order to edit a file and write new content: Open a file, add append, write content, then read it\n",
        "f = open('Data Analyst Important SKill Set.txt','a')\n",
        "\n",
        "# The following line updates a new line to a file, 'a' above means append\n",
        "# f.write('Now the file has more content')\n",
        "# f.close()\n",
        "\n",
        "with open('Data Analyst Important SKill Set.txt') as f:\n",
        "  print(f.read())\n",
        "\n",
        "f.close()\n",
        "\n",
        "# overwriting existing content ('w' means overwrite): open the file, add overwrite annotation, write content, read it, close it.\n",
        "f = open('Data Analyst Important SKill Set.txt','w')\n",
        "f.write('content has been deleted')\n",
        "f.close()\n",
        "\n",
        "with open('Data Analyst Important SKill Set.txt') as f:\n",
        "  print(f.read())\n",
        "\n",
        "f.close()\n",
        "\n",
        "# Creation of a new file: we use 'x' to create a new file.\n",
        "\n",
        "with open('file1.txt','a') as f:\n",
        "  f.write('this is file1')\n",
        "\n",
        "with open('file1.txt') as f2:\n",
        "  print(f2.read())\n",
        "\n",
        "f2.close()\n",
        "\n",
        "# Steps\n",
        "# 1 - create a file: f = open('filename','x')\n",
        "# 2 - write in the file: f.write('content','a')\n",
        "# 3 - read the file content: f.read(), f.readline()\n",
        "# 4 - overwrite: f.write('content','w')\n",
        "# 5 - close: f.close()\n",
        "# 6 - remove: os.remove('filename')\n",
        "# 7 - remove folder: os.rmdir('file name')"
      ],
      "metadata": {
        "colab": {
          "base_uri": "https://localhost:8080/"
        },
        "collapsed": true,
        "id": "Iw4BQTfKI6xZ",
        "outputId": "4f9d44cd-abef-4c31-83c2-86134e46fb50"
      },
      "execution_count": null,
      "outputs": [
        {
          "output_type": "stream",
          "name": "stdout",
          "text": [
            "content has been deleted\n",
            "content has been deleted\n",
            "this is file1this is file1this is file1this is file1\n"
          ]
        }
      ]
    },
    {
      "cell_type": "code",
      "source": [
        "# Delete a file\n",
        "import os\n",
        "# os.remove('filename')\n",
        "\n",
        "if os.path.exists('Data Analyst Important SKill Set.txt'):\n",
        "  os.remove('Data Analyst Important SKill Set.txt')\n",
        "else:\n",
        "  print('The file does not exist')\n",
        "\n",
        "# To remove folder\n",
        "# os.rmdir('file name')"
      ],
      "metadata": {
        "colab": {
          "base_uri": "https://localhost:8080/"
        },
        "id": "A-xsXmznTHKO",
        "outputId": "699b557f-b844-46bd-eedf-a8157d7d10a8"
      },
      "execution_count": null,
      "outputs": [
        {
          "output_type": "stream",
          "name": "stdout",
          "text": [
            "The file does not exist\n"
          ]
        }
      ]
    }
  ]
}