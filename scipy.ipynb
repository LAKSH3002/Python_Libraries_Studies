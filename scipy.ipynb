{
  "nbformat": 4,
  "nbformat_minor": 0,
  "metadata": {
    "colab": {
      "provenance": [],
      "authorship_tag": "ABX9TyOfJL/IQXfarM1XzORHIP0M",
      "include_colab_link": true
    },
    "kernelspec": {
      "name": "python3",
      "display_name": "Python 3"
    },
    "language_info": {
      "name": "python"
    }
  },
  "cells": [
    {
      "cell_type": "markdown",
      "metadata": {
        "id": "view-in-github",
        "colab_type": "text"
      },
      "source": [
        "<a href=\"https://colab.research.google.com/github/LAKSH3002/Python_Libraries_Studies/blob/main/scipy.ipynb\" target=\"_parent\"><img src=\"https://colab.research.google.com/assets/colab-badge.svg\" alt=\"Open In Colab\"/></a>"
      ]
    },
    {
      "cell_type": "code",
      "execution_count": null,
      "metadata": {
        "colab": {
          "base_uri": "https://localhost:8080/"
        },
        "id": "Ld9F4d-4kFg4",
        "outputId": "79b7624e-64eb-4351-e868-6f9e0fba20a8"
      },
      "outputs": [
        {
          "output_type": "stream",
          "name": "stdout",
          "text": [
            "3.141592653589793\n",
            "1.16.0\n"
          ]
        }
      ],
      "source": [
        "# Scipy: Scientific Python\n",
        "# Provides more utility functions for optimization, stats and signal processing.\n",
        "import scipy\n",
        "from scipy import constants\n",
        "# More about constants further\n",
        "print(constants.pi)\n",
        "print(scipy.__version__)"
      ]
    },
    {
      "cell_type": "code",
      "source": [
        "# Constraints - used in data science\n",
        "print(dir(constants))\n",
        "# This line will print list of all units under the constraints module\n",
        "# The constants module has almost constant values from all categories, a very few of them are their below\n",
        "# The units are placed under the following category\n",
        "\n",
        "# Metric,Binary,Mass,Angle,Time,Length,Pressure,Volume,Speed\n",
        "# Temperature,Energy,Power,Force\n",
        "\n",
        "print(constants.kilo) # Metric (SI) prefixes: in meter\n",
        "print(constants.nano) # Metric (SI) prefixes: in meter\n",
        "print(constants.kibi) # Binary prefixes: in bytes\n",
        "print(constants.pound) # mass: in kg\n",
        "print(constants.degree) # angle: in radians\n",
        "print(constants.minute) # Time: in seconds\n",
        "print(constants.inch) # Length: in meters\n",
        "print(constants.atm) # Pressure: in pascals\n",
        "print(constants.liter) # Volume: in cubic metres\n",
        "print(constants.knot) # Speed: in meters per second\n",
        "print(constants.zero_Celsius) # Temperature: in kelvin\n",
        "print(constants.calorie) # Energy: in joules\n",
        "print(constants.hp) # Power: in watts\n",
        "print(constants.dyne) # Force: in newton"
      ],
      "metadata": {
        "colab": {
          "base_uri": "https://localhost:8080/"
        },
        "id": "JWDhx7uW2HfA",
        "outputId": "dcecb384-6413-4b6f-85f5-c7ce30d525da",
        "collapsed": true
      },
      "execution_count": null,
      "outputs": [
        {
          "output_type": "stream",
          "name": "stdout",
          "text": [
            "['Avogadro', 'Boltzmann', 'Btu', 'Btu_IT', 'Btu_th', 'ConstantWarning', 'G', 'Julian_year', 'N_A', 'Planck', 'R', 'Rydberg', 'Stefan_Boltzmann', 'Wien', '__all__', '__builtins__', '__cached__', '__doc__', '__file__', '__loader__', '__name__', '__package__', '__path__', '__spec__', '_codata', '_constants', '_obsolete_constants', 'acre', 'alpha', 'angstrom', 'arcmin', 'arcminute', 'arcsec', 'arcsecond', 'astronomical_unit', 'atm', 'atmosphere', 'atomic_mass', 'atto', 'au', 'bar', 'barrel', 'bbl', 'blob', 'c', 'calorie', 'calorie_IT', 'calorie_th', 'carat', 'centi', 'codata', 'constants', 'convert_temperature', 'day', 'deci', 'degree', 'degree_Fahrenheit', 'deka', 'dyn', 'dyne', 'e', 'eV', 'electron_mass', 'electron_volt', 'elementary_charge', 'epsilon_0', 'erg', 'exa', 'exbi', 'femto', 'fermi', 'find', 'fine_structure', 'fluid_ounce', 'fluid_ounce_US', 'fluid_ounce_imp', 'foot', 'g', 'gallon', 'gallon_US', 'gallon_imp', 'gas_constant', 'gibi', 'giga', 'golden', 'golden_ratio', 'grain', 'gram', 'gravitational_constant', 'h', 'hbar', 'hectare', 'hecto', 'horsepower', 'hour', 'hp', 'inch', 'k', 'kgf', 'kibi', 'kilo', 'kilogram_force', 'kmh', 'knot', 'lambda2nu', 'lb', 'lbf', 'light_year', 'liter', 'litre', 'long_ton', 'm_e', 'm_n', 'm_p', 'm_u', 'mach', 'mebi', 'mega', 'metric_ton', 'micro', 'micron', 'mil', 'mile', 'milli', 'minute', 'mmHg', 'mph', 'mu_0', 'nano', 'nautical_mile', 'neutron_mass', 'nu2lambda', 'ounce', 'oz', 'parsec', 'pebi', 'peta', 'physical_constants', 'pi', 'pico', 'point', 'pound', 'pound_force', 'precision', 'proton_mass', 'psi', 'pt', 'quecto', 'quetta', 'ronna', 'ronto', 'short_ton', 'sigma', 'slinch', 'slug', 'speed_of_light', 'speed_of_sound', 'stone', 'survey_foot', 'survey_mile', 'tebi', 'tera', 'test', 'ton_TNT', 'torr', 'troy_ounce', 'troy_pound', 'u', 'unit', 'value', 'week', 'yard', 'year', 'yobi', 'yocto', 'yotta', 'zebi', 'zepto', 'zero_Celsius', 'zetta']\n",
            "1000.0\n",
            "1e-09\n",
            "1024\n",
            "0.45359236999999997\n",
            "0.017453292519943295\n",
            "60.0\n",
            "0.0254\n",
            "101325.0\n",
            "0.001\n",
            "0.5144444444444445\n",
            "273.15\n",
            "4.184\n",
            "745.6998715822701\n",
            "1e-05\n"
          ]
        }
      ]
    },
    {
      "cell_type": "code",
      "source": [
        "# Optimizers: set of procedures, that either find root or minimum value of a function\n",
        "# Numpy can find roots of polynomial function, but it cannot find root of non-linear functions like: x + cosx\n",
        "from scipy.optimize import root\n",
        "from scipy.optimize import minimize\n",
        "from math import cos\n",
        "\n",
        "def fn(x):\n",
        "  return x+cos(x)\n",
        "\n",
        "def eqn(x):\n",
        "  return x**2 + x + 2\n",
        "\n",
        "myroot = root(fn, 0)\n",
        "# root() function requires 2 values.\n",
        "print(myroot.x)\n",
        "print(myroot)\n",
        "print()\n",
        "# we will use minimize() function, it takes function, name of the method to be used\n",
        "mymin = minimize(eqn, 0, method='BFGS')\n",
        "print(mymin)"
      ],
      "metadata": {
        "colab": {
          "base_uri": "https://localhost:8080/"
        },
        "collapsed": true,
        "id": "A2wpNk4F-1Yj",
        "outputId": "0a996fd5-3a1d-4a32-c7fd-db4f75c6d77b"
      },
      "execution_count": null,
      "outputs": [
        {
          "output_type": "stream",
          "name": "stdout",
          "text": [
            "[-0.73908513]\n",
            " message: The solution converged.\n",
            " success: True\n",
            "  status: 1\n",
            "     fun: [ 0.000e+00]\n",
            "       x: [-7.391e-01]\n",
            "  method: hybr\n",
            "    nfev: 11\n",
            "    fjac: [[-1.000e+00]]\n",
            "       r: [-1.674e+00]\n",
            "     qtf: [-2.668e-13]\n",
            "\n",
            "  message: Optimization terminated successfully.\n",
            "  success: True\n",
            "   status: 0\n",
            "      fun: 1.75\n",
            "        x: [-5.000e-01]\n",
            "      nit: 2\n",
            "      jac: [ 0.000e+00]\n",
            " hess_inv: [[ 5.000e-01]]\n",
            "     nfev: 8\n",
            "     njev: 4\n"
          ]
        },
        {
          "output_type": "stream",
          "name": "stderr",
          "text": [
            "/tmp/ipython-input-4-1464846667.py:8: DeprecationWarning: Conversion of an array with ndim > 0 to a scalar is deprecated, and will error in future. Ensure you extract a single element from your array before performing this operation. (Deprecated NumPy 1.25.)\n",
            "  return x+cos(x)\n"
          ]
        }
      ]
    },
    {
      "cell_type": "markdown",
      "source": [
        "**Sparse Data In Scipy**"
      ],
      "metadata": {
        "id": "cHpReLKYxMeT"
      }
    },
    {
      "cell_type": "code",
      "source": [
        "# Sparse Data (A dataset where most of the elements are unused and not at all important)\n",
        "# a data set where most of the values are zero.\n",
        "# Dense array is the opposite of a sparse array.\n",
        "# Scipy has libraries that provide functions to deal with sparse data.\n",
        "# There are two types of sparse matrices that we use: CSC and CSR.\n",
        "\n",
        "# CSC - Compressed Sparse column. For efficient mathematics and fast column slicing.\n",
        "# CSR - Compressed Sparse Row. For fast row slicing, faster matrix vector products.\n",
        "import numpy as np\n",
        "from scipy.sparse import csr_matrix\n",
        "\n",
        "arr = np.array([0, 0, 0, 0, 0, 1, 1, 0, 2])\n",
        "print(csr_matrix(arr))\n",
        "\n",
        "# Using the data property to view the stored items (non-zero items)\n",
        "print(csr_matrix(arr).data)\n",
        "\n",
        "arr2 = np.array([[0, 0, 0], [1, 0, 1], [1, 0, 2], [2, 0, 0], [8, 0, 1]])\n",
        "print(csr_matrix(arr2).data)\n",
        "\n",
        "# Lets use the function: count_nonzero(): it will count the non zero values in the array\n",
        "print(csr_matrix(arr2).count_nonzero())\n",
        "\n",
        "# So we displayed the non zero values and also calculated the number of non zero values, now lets eliminate them.\n",
        "# using eliminate_zeros()\n",
        "mat = csr_matrix(arr2)\n",
        "mat.eliminate_zeros()\n",
        "print(mat)\n",
        "\n",
        "# So Non zero values are counted, non zero values are eliminated,\n",
        "# Now lets see how do we eliminate duplicates\n",
        "# Use function: sum_duplicates()\n",
        "\n",
        "# Conversion of csr to csc matrix using tocsc() method\n",
        "newarr = csr_matrix(arr).tocsc()\n",
        "print(newarr)"
      ],
      "metadata": {
        "id": "A-HUsSHyAohc",
        "colab": {
          "base_uri": "https://localhost:8080/"
        },
        "outputId": "a286984e-47c3-4135-caed-02275351d4b8"
      },
      "execution_count": null,
      "outputs": [
        {
          "output_type": "stream",
          "name": "stdout",
          "text": [
            "<Compressed Sparse Row sparse matrix of dtype 'int64'\n",
            "\twith 3 stored elements and shape (1, 9)>\n",
            "  Coords\tValues\n",
            "  (0, 5)\t1\n",
            "  (0, 6)\t1\n",
            "  (0, 8)\t2\n",
            "[1 1 2]\n",
            "[1 1 1 2 2 8 1]\n",
            "7\n",
            "<Compressed Sparse Row sparse matrix of dtype 'int64'\n",
            "\twith 7 stored elements and shape (5, 3)>\n",
            "  Coords\tValues\n",
            "  (1, 0)\t1\n",
            "  (1, 2)\t1\n",
            "  (2, 0)\t1\n",
            "  (2, 2)\t2\n",
            "  (3, 0)\t2\n",
            "  (4, 0)\t8\n",
            "  (4, 2)\t1\n",
            "<Compressed Sparse Column sparse matrix of dtype 'int64'\n",
            "\twith 3 stored elements and shape (1, 9)>\n",
            "  Coords\tValues\n",
            "  (0, 5)\t1\n",
            "  (0, 6)\t1\n",
            "  (0, 8)\t2\n"
          ]
        }
      ]
    },
    {
      "cell_type": "markdown",
      "source": [
        "**Graphs in Scipy**"
      ],
      "metadata": {
        "id": "IWY-qRm1xH-L"
      }
    },
    {
      "cell_type": "code",
      "source": [
        "# Graphs in scientific python\n",
        "# There are methods that are used to find shortest path between edges.\n",
        "# Djikstra, bellman_ford, floyd_warshall(), DFO, BFO.\n",
        "import numpy as np\n",
        "from scipy.sparse.csgraph import connected_components, floyd_warshall, dijkstra, bellman_ford, depth_first_order, breadth_first_order\n",
        "from scipy.sparse import csr_matrix\n",
        "\n",
        "arr = np.array([\n",
        "  [0, 1, 2],\n",
        "  [1, 0, 0],\n",
        "  [2, 0, 0]\n",
        "])\n",
        "\n",
        "# converted to csr matrix to be used in graph algorithms.\n",
        "newarr = csr_matrix(arr)\n",
        "# Using connected components method to find all the connected components\n",
        "print(connected_components(arr))\n",
        "print()\n",
        "# Using floyd_warshall method to find shortest path between all pairs of elements\n",
        "print(floyd_warshall(newarr, return_predecessors=True))\n",
        "print()\n",
        "# Using dijkstra to find shortest path in a graph from one element to another.\n",
        "# Can handle only non-negative values\n",
        "print(dijkstra(newarr, return_predecessors=True, indices=0))\n",
        "print()\n",
        "# Bellman_ford(): Also finds shortest path but can handle negative weights as well.\n",
        "# It can handle negative values\n",
        "print(bellman_ford(newarr, return_predecessors=True, indices=0))\n",
        "\n",
        "# Depth first and breadth first\n",
        "arr2 = np.array([\n",
        "  [0, 1, 0, 1],\n",
        "  [1, 1, 1, 1],\n",
        "  [2, 1, 1, 0],\n",
        "  [0, 1, 0, 1]\n",
        "])\n",
        "\n",
        "newarr2 = csr_matrix(arr2)\n",
        "print()\n",
        "print(depth_first_order(newarr2, 1))\n",
        "print()\n",
        "print(breadth_first_order(newarr2,1))\n",
        "\n",
        "# The output explanation of all functions is still left (27th July 2025)"
      ],
      "metadata": {
        "colab": {
          "base_uri": "https://localhost:8080/"
        },
        "id": "5WZqn7nkI9c0",
        "outputId": "df7e8495-c19f-44aa-b41a-d3a0cf293863"
      },
      "execution_count": null,
      "outputs": [
        {
          "output_type": "stream",
          "name": "stdout",
          "text": [
            "(1, array([0, 0, 0], dtype=int32))\n",
            "\n",
            "(array([[0., 1., 2.],\n",
            "       [1., 0., 3.],\n",
            "       [2., 3., 0.]]), array([[-9999,     0,     0],\n",
            "       [    1, -9999,     0],\n",
            "       [    2,     0, -9999]], dtype=int32))\n",
            "\n",
            "(array([0., 1., 2.]), array([-9999,     0,     0], dtype=int32))\n",
            "\n",
            "(array([0., 1., 2.]), array([-9999,     0,     0], dtype=int32))\n",
            "\n",
            "(array([1, 0, 3, 2], dtype=int32), array([    1, -9999,     1,     0], dtype=int32))\n",
            "\n",
            "(array([1, 0, 2, 3], dtype=int32), array([    1, -9999,     1,     1], dtype=int32))\n"
          ]
        }
      ]
    },
    {
      "cell_type": "markdown",
      "source": [
        "**Spatial Data in Scipy**"
      ],
      "metadata": {
        "id": "fSEDz5oAxC68"
      }
    },
    {
      "cell_type": "code",
      "source": [
        "# Spatial data: Data represented in a geometric space (eg: points on a coordinate system)\n",
        "# Use case of this form of data is: finding if a point is inside a boundary or not.\n",
        "# The various methods that we use when data is in a geometric space\n",
        "# Triangulation, convex Hull, KDTress, Distance matrix, Euclidean distance, Manhattan distance, Cosine distance, Hamming distance\n",
        "\n",
        "# First lets begin with distance measures in a geometric space\n",
        "# Distance Matrix\n",
        "from scipy.spatial.distance import euclidean, cityblock, cosine, hamming\n",
        "# Points declaration\n",
        "p1 = (1,0)\n",
        "p2 = (11,3)\n",
        "\n",
        "# Euclidean result: I know the formula\n",
        "result = euclidean(p1,p2)\n",
        "print(result)\n",
        "\n",
        "# Cityblock distance - Manhattan distance (It is a distance that is computed using 4 degrees of movement)\n",
        "# Sum of absolute difference between the two cartesian coordinates: |x₁ - x₂| + |y₁ - y₂|\n",
        "result2 = cityblock(p1,p2)\n",
        "print(result2)\n",
        "\n",
        "# cosine distance - cosine angle between two coordinates\n",
        "result3 = cosine(p1,p2)\n",
        "print(result3)\n",
        "\n",
        "# Hamming distance: Its a way to measure distance between binary sequences of same length,\n",
        "# This distance is used to find out dissimilarity between two strings\n",
        "# Used in ML as a similarity metric for binary or categorical data.\n",
        "# It is calculated using XOR operation between the two points.\n",
        "p11 = (1,1,0,1)\n",
        "p22 = (1,1,1,1)\n",
        "result4 = hamming(p11,p22)\n",
        "print(result4)"
      ],
      "metadata": {
        "colab": {
          "base_uri": "https://localhost:8080/"
        },
        "collapsed": true,
        "id": "HFdaawOlq9Lz",
        "outputId": "6b69ff22-4e0a-4059-edcd-ef5a5c5d3dd1"
      },
      "execution_count": null,
      "outputs": [
        {
          "output_type": "stream",
          "name": "stdout",
          "text": [
            "10.44030650891055\n",
            "13\n",
            "0.03523617876226781\n",
            "0.25\n"
          ]
        }
      ]
    },
    {
      "cell_type": "markdown",
      "source": [
        "**Spatial Data Continued**"
      ],
      "metadata": {
        "id": "PzkPFx-t3ReI"
      }
    },
    {
      "cell_type": "code",
      "source": [
        "# Spatial data concept continued\n",
        "# Triangulation: A method to divide a polygon into multiple triangles to find out areas and compute them accordingly\n",
        "# One method to create such triangles is Delaunay()\n",
        "from scipy.spatial import Delaunay, ConvexHull, KDTree\n",
        "import numpy as np\n",
        "import matplotlib.pyplot as plt\n",
        "\n",
        "points = np.array([\n",
        "  [2, 4],\n",
        "  [3, 4],\n",
        "  [3, 2],\n",
        "  [2, 2],\n",
        "  [1, 4]\n",
        "])\n",
        "\n",
        "# Created Triangles using triangulation technique: It connects all the points from the dataset.\n",
        "simplices = Delaunay(points).simplices\n",
        "# .simplices: returns the indices of the points that make up the triangle.\n",
        "print(simplices)\n",
        "\n",
        "# Now plotting them\n",
        "# All x-coordinates, y-coordinates and list of triangles between the points.\n",
        "plt.triplot(points[:, 0], points[:, 1], simplices)\n",
        "plt.scatter(points[:, 0], points[:, 1], color='r')\n",
        "plt.show()\n",
        "\n",
        "# ConvexHull() method\n",
        "# A convexHull - is a small polygon that contains all the points\n",
        "# You can think of it like stretching a rubber band around the outermost points — the shape the band forms is the convex hull.\n",
        "points2 = np.array([\n",
        "  [2, 4],[3, 4],\n",
        "  [3, 0],[2, 1],\n",
        "  [4, 1],[1, 2],\n",
        "  [5, 2],[3, 4],\n",
        "  [1, 2],[0, 2]\n",
        "])\n",
        "\n",
        "hull = ConvexHull(points2)\n",
        "# hull.simplices will return the indices of the point pairs that form the edges of the polygon.\n",
        "hull_points = hull.simplices\n",
        "print(hull_points)\n",
        "plt.scatter(points2[:, 0], points2[:, 1], color='r')\n",
        "# Iterates over each edge of the convex hull and draws a black line ('k-') between the corresponding points.\n",
        "for simplex in hull_points:\n",
        "    plt.plot(points2[simplex, 0], points2[simplex, 1], 'k-')\n",
        "plt.show()\n",
        "\n",
        "# KDTrees are a datastructure optimized for nearest neighbor queries\n",
        "# Suppose we want to find out nearest points to a certain given point, then we can use this method\n",
        "# KDTree() returns a KDTree object and query() method finds the distance and location to the nearest neighbor.\n",
        "points = [(1, -1), (2, 3), (-2, 3), (2, -3)]\n",
        "# Creation of object\n",
        "KDtree = KDTree(points)\n",
        "tree_result = KDtree.query((1,1))\n",
        "print(tree_result)"
      ],
      "metadata": {
        "colab": {
          "base_uri": "https://localhost:8080/",
          "height": 999
        },
        "id": "n0kLV8kxzq0M",
        "outputId": "61aa577e-4688-4df2-d510-747a6aa2c68c"
      },
      "execution_count": null,
      "outputs": [
        {
          "output_type": "stream",
          "name": "stdout",
          "text": [
            "[[3 0 4]\n",
            " [0 3 2]\n",
            " [0 2 1]]\n"
          ]
        },
        {
          "output_type": "display_data",
          "data": {
            "text/plain": [
              "<Figure size 640x480 with 1 Axes>"
            ],
            "image/png": "[encoded data removed]"
          },
          "metadata": {}
        },
        {
          "output_type": "stream",
          "name": "stdout",
          "text": [
            "[[2 9]\n",
            " [2 6]\n",
            " [0 9]\n",
            " [1 6]\n",
            " [1 0]]\n"
          ]
        },
        {
          "output_type": "display_data",
          "data": {
            "text/plain": [
              "<Figure size 640x480 with 1 Axes>"
            ],
            "image/png": "[encoded data removed]"
          },
          "metadata": {}
        },
        {
          "output_type": "stream",
          "name": "stdout",
          "text": [
            "(2.0, np.int64(0))\n"
          ]
        }
      ]
    },
    {
      "cell_type": "code",
      "source": [
        "# MATLAB - Matrix Laboratory: High level programming language and computing environment.\n",
        "# Lets just see a small example of MATLAB\n",
        "'''\n",
        "A = [1 2; 3 4];\n",
        "B = [5 6; 7 8];\n",
        "C = A + B;\n",
        "disp(C);\n",
        "'''\n",
        "# Scipy provides functions that help us connect with the MATLAB programming language.\n",
        "from scipy import io\n",
        "matlab_arr = np.array([0, 1, 2, 3, 4, 5, 6, 7, 8, 9,])\n",
        "\n",
        "# Export\n",
        "io.savemat('arr.mat',{\"vec\":matlab_arr})\n",
        "# Import\n",
        "mydata = io.loadmat('arr.mat')\n",
        "print(mydata)\n",
        "\n",
        "# Only the array, along with single dimension\n",
        "mydata2 = io.loadmat('arr.mat',squeeze_me=True)\n",
        "print(mydata2['vec'])"
      ],
      "metadata": {
        "colab": {
          "base_uri": "https://localhost:8080/"
        },
        "id": "D_kHFTgQX7lA",
        "outputId": "bcf687a8-66a8-4963-e49e-d4019588ef89"
      },
      "execution_count": null,
      "outputs": [
        {
          "output_type": "stream",
          "name": "stdout",
          "text": [
            "{'__header__': b'MATLAB 5.0 MAT-file Platform: posix, Created on: Sun Jul 27 15:03:54 2025', '__version__': '1.0', '__globals__': [], 'vec': array([[0, 1, 2, 3, 4, 5, 6, 7, 8, 9]])}\n",
            "[0 1 2 3 4 5 6 7 8 9]\n"
          ]
        }
      ]
    },
    {
      "cell_type": "code",
      "source": [
        "# Interpolation - a method for generating points between two points\n",
        "# In ML, Interpolation is used to substitute empty cells\n",
        "from scipy.interpolate import interp1d, UnivariateSpline\n",
        "import numpy as np\n",
        "\n",
        "# For Linear dimension\n",
        "# creation of two arrays\n",
        "xs = np.arange(10)\n",
        "ys = 2*xs + 1\n",
        "\n",
        "# Passing x and y values to the interpolate functions\n",
        "interp_func = interp1d(xs,ys)\n",
        "\n",
        "# passing new values of x and correspondingly getting new values of y\n",
        "newarray = interp_func(np.arange(2.1,3,0.1))\n",
        "print(newarray)\n",
        "\n",
        "# Piecewise function defined with polynomials\n",
        "xs2 = np.arange(10)\n",
        "ys2 = xs**2 + np.sin(xs) + 1\n",
        "# The following function uses a polynomial function, rest process is same like the above one\n",
        "interp_func2 = UnivariateSpline(xs2,ys2)\n",
        "newarray2 = interp_func2(np.arange(2.1,3,0.1))\n",
        "print(newarray2)\n",
        "\n",
        "# Interpolation with radial basis function (Defined correspondingly to a fixed point)\n",
        "# The rbf(xs,ys) function is used."
      ],
      "metadata": {
        "colab": {
          "base_uri": "https://localhost:8080/"
        },
        "collapsed": true,
        "id": "lWNg1KXuaiUi",
        "outputId": "47ba1f1e-645c-47e2-a3b4-fbd0f256e2c4"
      },
      "execution_count": null,
      "outputs": [
        {
          "output_type": "stream",
          "name": "stdout",
          "text": [
            "[5.2 5.4 5.6 5.8 6.  6.2 6.4 6.6 6.8]\n",
            "[5.62826474 6.03987348 6.47131994 6.92265019 7.3939103  7.88514634\n",
            " 8.39640439 8.92773053 9.47917082]\n"
          ]
        }
      ]
    },
    {
      "cell_type": "markdown",
      "source": [
        "**Statistical Significance test**"
      ],
      "metadata": {
        "id": "F3M2fMuwWtps"
      }
    },
    {
      "cell_type": "code",
      "source": [
        "# Statistical Significance test\n",
        "\n",
        "# Normality Tests (Skewness and Kurtosis)\n",
        "# We will find skewness, kurtosis and whether data comes from a normal distribution or not\n",
        "from scipy.stats import skew, kurtosis, normaltest, describe\n",
        "import numpy as np\n",
        "v = np.random.normal(size=110)\n",
        "print(skew(v)) # Measure of symmetry in data\n",
        "print(kurtosis(v)) # A measure of whether the data is heavy or lightly tailed to a normal distribution.\n",
        "print(normaltest(v))\n",
        "res = describe(v)\n",
        "print(res) # All statistical details will be displayed (mean, minmax, variance, number of observations, skewness, kurtosis)"
      ],
      "metadata": {
        "colab": {
          "base_uri": "https://localhost:8080/"
        },
        "id": "dfA31jsmVOxf",
        "outputId": "f992ac32-38f9-4ff0-bfb8-37763bee13bf"
      },
      "execution_count": null,
      "outputs": [
        {
          "output_type": "stream",
          "name": "stdout",
          "text": [
            "0.23382791537840744\n",
            "-0.12505440964049885\n",
            "NormaltestResult(statistic=np.float64(1.1001937140439164), pvalue=np.float64(0.5768939314462112))\n",
            "DescribeResult(nobs=np.int64(110), minmax=(np.float64(-3.141245280953449), np.float64(2.806157434635819)), mean=np.float64(-0.16901937213406273), variance=np.float64(1.2468640167886098), skewness=np.float64(0.23382791537840744), kurtosis=np.float64(-0.12505440964049885))\n"
          ]
        }
      ]
    },
    {
      "cell_type": "code",
      "source": [
        "# Statistical Significance test continued\n",
        "# Hypothesis, Null Hypothesis, Alternate Hypothesis, alpha value, p value, one tailed test, two tailed test\n",
        "# If pvalue <= alphavalue then reject null hypothesis else accept it.\n",
        "\n",
        "# Null hypothesis: It assumes that the observation is not statistically significant.\n",
        "# Alternate hypothesis: It assumes that the observations are due to some reason.\n",
        "# One tailed: When our hypothesis is testing for one side of the value only,\n",
        "# Two tailed: When our hypothesis is testing for both side of the values.\n",
        "# p value: P value tells how close to extreme the data actually is.\n",
        "# alpha value: Alpha value is the level of significance.\n",
        "\n",
        "# T-Test\n",
        "# Two tailed test\n",
        "# Determines if there is any significant deference between means of two variables and lets us know if they belong to the same distribution.\n",
        "import numpy as np\n",
        "from scipy.stats import ttest_ind, kstest\n",
        "\n",
        "v1 = np.random.normal(size=100)\n",
        "v2 = np.random.normal(size=100)\n",
        "\n",
        "res = ttest_ind(v1,v2)\n",
        "print(res)\n",
        "\n",
        "# KS Test\n",
        "# KS test is used to check if given values follow a distribution\n",
        "# It can be used as a one tailed as well as two tailed test.\n",
        "v = np.random.normal(size=100)\n",
        "res2 = kstest(v, 'norm')\n",
        "print(res2)"
      ],
      "metadata": {
        "colab": {
          "base_uri": "https://localhost:8080/"
        },
        "id": "qfJXgHJxZFqi",
        "outputId": "be0c520f-29fd-438b-f0e9-166049017a61"
      },
      "execution_count": null,
      "outputs": [
        {
          "output_type": "stream",
          "name": "stdout",
          "text": [
            "TtestResult(statistic=np.float64(0.7489674289335979), pvalue=np.float64(0.45476566805017704), df=np.float64(198.0))\n",
            "KstestResult(statistic=np.float64(0.051855978688924886), pvalue=np.float64(0.9379406535459887), statistic_location=np.float64(0.6184358948720623), statistic_sign=np.int8(-1))\n"
          ]
        }
      ]
    }
  ]
}